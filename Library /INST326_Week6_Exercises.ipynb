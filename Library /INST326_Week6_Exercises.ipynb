{
 "cells": [
  {
   "cell_type": "markdown",
   "id": "mYtZ3ZTaIpL1",
   "metadata": {
    "id": "mYtZ3ZTaIpL1"
   },
   "source": [
    "# INST326 — Week 6 Exercises (Methods & Class Design)\n",
    "\n",
    "## Library Management Project\n",
    "_Generated: 2025-10-17 16:56:36_\n",
    "\n",
    "> Focus this week: instance methods, class methods (`@classmethod`), and static methods (`@staticmethod`).\n",
    "> These exercises **do not** require Week 7+ topics (no unit testing frameworks, no advanced exception handling, no inheritance/polymorphism)."
   ]
  },
  {
   "cell_type": "markdown",
   "id": "xEtOoPSuIpL4",
   "metadata": {
    "id": "xEtOoPSuIpL4"
   },
   "source": [
    "\n",
    "### Python skills you'll need\n",
    "- Defining **classes** with `__init__` and instance methods\n",
    "- Using **instance attributes** (`self.title`, `self.author`, etc.) and basic encapsulation\n",
    "- Creating and using **class attributes** and **class methods** with `@classmethod`\n",
    "- Creating and using **static methods** with `@staticmethod`\n",
    "- Basic collection operations (`list`, `dict`, `set`) and iteration\n",
    "- Simple string formatting (f-strings) and date strings (e.g., `'2025-10-17'`)\n",
    "- Writing docstrings and following method naming conventions\n"
   ]
  },
  {
   "cell_type": "markdown",
   "id": "NlUm6DnFIpL5",
   "metadata": {
    "id": "NlUm6DnFIpL5"
   },
   "source": [
    "\n",
    "### How to use this notebook\n",
    "- Each exercise includes a brief description and a starter code cell marked with `# TODO`.\n",
    "- You may add helper methods where it helps your design (keep it within Week 6 scope).\n",
    "- Keep your code readable: meaningful names, docstrings, and short methods.\n"
   ]
  },
  {
   "cell_type": "code",
   "execution_count": null,
   "id": "X8Z6RP2vJCGy",
   "metadata": {
    "id": "X8Z6RP2vJCGy"
   },
   "outputs": [],
   "source": [
    "# Helper imports for date handling used in several solutions\n",
    "from datetime import date, timedelta\n"
   ]
  },
  {
   "cell_type": "markdown",
   "id": "hwljlq-zIpL5",
   "metadata": {
    "id": "hwljlq-zIpL5"
   },
   "source": [
    "---\n",
    "\n",
    "## 1) `Book` instance methods: basic getters & summary\n",
    "\n",
    "Implement a `Book` class with instance attributes: `title`, `author`, `isbn`, `year`.\n",
    "\n",
    "Add instance methods:\n",
    "\n",
    "- `short_label()` → returns `\"{title} ({year})\"`\n",
    "\n",
    "- `author_lastname()` → returns the author's last name (split on spaces and take last)\n",
    "\n",
    "- `citation()` → returns `\"{author} ({year}). {title}. ISBN {isbn}.\"`\n"
   ]
  },
  {
   "cell_type": "code",
   "execution_count": 7,
   "id": "JDftUSxEIpL6",
   "metadata": {
    "id": "JDftUSxEIpL6"
   },
   "outputs": [],
   "source": [
    "# TODO: Start here\n",
    "# Write your solution below. You may add helper methods/classes if helpful (Week 6 scope only).\n",
    "\n",
    "class Book:\n",
    "    def __init__(self, title: str, author: str, isbn: str, year: str):\n",
    "        self.title = title\n",
    "        self.author = author\n",
    "        self.isbn = isbn\n",
    "        self.year = year\n",
    "      \n",
    "\n",
    "    def short_label(self) -> str:\n",
    "        return f\"{self.title} ({self.year})\"\n",
    "    \n",
    "    def author_lastname(self) -> str:\n",
    "        x = self.author.split()\n",
    "        return x[-1] if x else \"\"\n",
    "    \n",
    "    def citation(self) -> str:\n",
    "        return f\"{self.author} ({self.year}). {self.title}. ISBN: {self.isbn}.\""
   ]
  },
  {
   "cell_type": "markdown",
   "id": "pj09uZQjIpL7",
   "metadata": {
    "id": "pj09uZQjIpL7"
   },
   "source": [
    "---\n",
    "\n",
    "## 2) `Member` class: join date & status method\n",
    "\n",
    "Implement a `Member` class with attributes: `member_id`, `name`, `join_date` (YYYY-MM-DD), `active` (bool, default True).\n",
    "\n",
    "Add instance methods:\n",
    "\n",
    "- `is_active()` → True/False\n",
    "\n",
    "- `membership_age_days(today_str)` → number of days between `join_date` and `today_str` (treat as strings; do simple parsing with `YYYY-MM-DD` and `datetime.date`).\n"
   ]
  },
  {
   "cell_type": "code",
   "execution_count": 8,
   "id": "gYrqlTCHIpL8",
   "metadata": {
    "id": "gYrqlTCHIpL8"
   },
   "outputs": [],
   "source": [
    "# TODO: Start here\n",
    "# Write your solution below. You may add helper methods/classes if helpful (Week 6 scope only).\n",
    "\n",
    "from datetime import date, timedelta\n",
    "\n",
    "class Member:\n",
    "    def __init__(self, member_id: str, name: str, join_date: str, active: bool = True):\n",
    "        self.member_id = member_id\n",
    "        self.name = name\n",
    "        self.join_date = join_date\n",
    "        self.active = active\n",
    "\n",
    "    def is_active(self) -> bool:\n",
    "        return self.active\n",
    "    \n",
    "    def membership_age_days(self, today_str: str) -> int:\n",
    "        y1, m1, d1 = map(int, self.join_date.split(\"-\"))\n",
    "        y2, m2, d2 = map(int, today_str.split(\"-\"))\n",
    "        join_date = date(y1, m1, d1)\n",
    "        today_str = date(y2, m2, d2)\n",
    "\n",
    "        return (today_str - join_date).days\n",
    "        "
   ]
  },
  {
   "cell_type": "markdown",
   "id": "AOQ5Bp8mIpL8",
   "metadata": {
    "id": "AOQ5Bp8mIpL8"
   },
   "source": [
    "---\n",
    "\n",
    "## 3) `IdGenerator` as a class for IDs (class method)\n",
    "\n",
    "Create an `IdGenerator` class that maintains a class attribute `_counter = 1000`.\n",
    "\n",
    "Add:\n",
    "\n",
    "- `next_id()` as a **class method** returning the next integer id and incrementing `_counter`.\n",
    "\n",
    "Demonstrate generating 3 IDs: 1001, 1002, 1003 (starting from 1000).\n"
   ]
  },
  {
   "cell_type": "code",
   "execution_count": 9,
   "id": "vKMG-6qpIpL8",
   "metadata": {
    "id": "vKMG-6qpIpL8"
   },
   "outputs": [],
   "source": [
    "# TODO: Start here\n",
    "# Write your solution below. You may add helper methods/classes if helpful (Week 6 scope only).\n",
    "\n",
    "class IDGenerator:\n",
    "    \n",
    "    _counter = 1000\n",
    "    @classmethod\n",
    "    def next_id(cls) -> int:\n",
    "        cls._counter += 1\n",
    "        return cls._counter"
   ]
  },
  {
   "cell_type": "markdown",
   "id": "GiKKSda8IpL9",
   "metadata": {
    "id": "GiKKSda8IpL9"
   },
   "source": [
    "---\n",
    "\n",
    "## 4) `DateUtils` static helpers\n",
    "\n",
    "Create a `DateUtils` utility class with **static methods**:\n",
    "\n",
    "- `parse_ymd(s)` → returns `(year, month, day)` as ints from `'YYYY-MM-DD'`\n",
    "\n",
    "- `days_between(d1, d2)` → integer day difference given two `'YYYY-MM-DD'` strings (use `datetime.date` internally).\n"
   ]
  },
  {
   "cell_type": "code",
   "execution_count": 10,
   "id": "wbm-dJZXIpL-",
   "metadata": {
    "id": "wbm-dJZXIpL-"
   },
   "outputs": [],
   "source": [
    "# TODO: Start here\n",
    "# Write your solution below. You may add helper methods/classes if helpful (Week 6 scope only).\n",
    "\n",
    "from datetime import date, timedelta\n",
    "\n",
    "class DateUtils:\n",
    "    @staticmethod\n",
    "    def parse_ymd(s: str) -> tuple[int, int, int]:\n",
    "        y, m, d = map(int, s.split(\"-\"))\n",
    "        return (y, m, d)\n",
    "    \n",
    "    @staticmethod\n",
    "    def days_between(d1: str, d2: str) -> int:\n",
    "        y1, m1, d1 = DateUtils.parse_ymd(d1)\n",
    "        y2, m2, d2 = DateUtils.parse_ymd(d2)\n",
    "        start_d1 = date(y1, m1, d1)\n",
    "        end_d2 = date(y2, m2, d2)\n",
    "        return abs((end_d2 - start_d1).days)\n",
    "\n"
   ]
  },
  {
   "cell_type": "markdown",
   "id": "lB9Qq3sJIpL_",
   "metadata": {
    "id": "lB9Qq3sJIpL_"
   },
   "source": [
    "---\n",
    "\n",
    "## 5) `LoanPolicy` class + class method presets\n",
    "\n",
    "Create a `LoanPolicy` class with attributes: `name`, `loan_days`, `max_renewals`.\n",
    "\n",
    "Add **class methods** that return preset policies:\n",
    "\n",
    "- `standard()` → 21 days, 2 renewals\n",
    "\n",
    "- `short_loan()` → 7 days, 1 renewal\n",
    "\n",
    "- `faculty()` → 60 days, 4 renewals\n"
   ]
  },
  {
   "cell_type": "code",
   "execution_count": 12,
   "id": "c4nmzHxhIpMA",
   "metadata": {
    "id": "c4nmzHxhIpMA"
   },
   "outputs": [],
   "source": [
    "# TODO: Start here\n",
    "# Write your solution below. You may add helper methods/classes if helpful (Week 6 scope only).\n",
    "\n",
    "class LoanPolicy:\n",
    "    def __init__(self, name: str, loan_days: int, max_renewals: int):\n",
    "        self.name = name\n",
    "        self.loan_days = lean_days\n",
    "        self.max_renewals = max_renewals\n",
    "\n",
    "    @classmethod\n",
    "    def standard(cls):\n",
    "        return cls(\"Standard\", 21, 2)\n",
    "    \n",
    "    @classmethod\n",
    "    def short_loan(cls):\n",
    "        return cls(\"Short Loan\", 7, 1)\n",
    "    \n",
    "    @classmethod\n",
    "    def faculty(cls):\n",
    "        return cls(\"Faculty\", 60, 4)\n"
   ]
  },
  {
   "cell_type": "markdown",
   "id": "ipizRGSmIpMA",
   "metadata": {
    "id": "ipizRGSmIpMA"
   },
   "source": [
    "---\n",
    "\n",
    "## 6) `Loan` instance methods using helpers\n",
    "\n",
    "Create a `Loan` class with attributes: `book_isbn`, `member_id`, `checkout_date`, `due_date` (YYYY-MM-DD), and a `policy` (LoanPolicy).\n",
    "\n",
    "Add instance methods:\n",
    "\n",
    "- `remaining_days(today)` → days until due (0 if due today, negative if overdue)\n",
    "\n",
    "- `renew()` → extends `due_date` by `policy.loan_days` if remaining renewals > 0; otherwise return `False`. Keep a simple `renewals_used` counter.\n",
    "\n",
    "(You may use your `DateUtils` static methods.)\n"
   ]
  },
  {
   "cell_type": "code",
   "execution_count": 14,
   "id": "iPiUcxXDIpMB",
   "metadata": {
    "id": "iPiUcxXDIpMB"
   },
   "outputs": [],
   "source": [
    "# TODO: Start here\n",
    "# Write your solution below. You may add helper methods/classes if helpful (Week 6 scope only).\n",
    "from datetime import date, timedelta\n",
    "\n",
    "\n",
    "class Loan:\n",
    "    def __init__(self, book_isbn: str, member_id: str, checkout_date: str, due_date: str, policy):\n",
    "        self.book_isbn = book_isbn\n",
    "        self.member_id = member_id\n",
    "        self.checkout_date = checkout_date\n",
    "        self.due_date = due_date\n",
    "        self.policy = policy\n",
    "        self.renewals_used = 0\n",
    "\n",
    "    def remaining_days(self, today: str) -> int:\n",
    "        days = DateUtils.days_between(today, self.due_date)\n",
    "        if today > self.due_date:\n",
    "            days = -days\n",
    "        return days\n",
    "    \n",
    "    def renew(self) -> bool:\n",
    "        if self.renewals_used < self.policy.max_renewals:\n",
    "            y, m, d = DateUtils.parse_ymd(self.due_date)\n",
    "            new_due = date(y, m, d) + timedelta(days=self.policy.loan_days)\n",
    "            self.due_date = new_due.strftime(\"%Y-%m-%d\")\n",
    "            self.renewals_used += 1\n",
    "            return True\n",
    "        return False\n",
    "        "
   ]
  },
  {
   "cell_type": "markdown",
   "id": "VLZ4JJktIpMB",
   "metadata": {
    "id": "VLZ4JJktIpMB"
   },
   "source": [
    "---\n",
    "\n",
    "## 7) `Catalog` instance/class split for formats\n",
    "\n",
    "Create a `Catalog` class that stores `items` (dict from `isbn` -> `Book`).\n",
    "\n",
    "Add:\n",
    "\n",
    "- Instance method `add_book(book)`\n",
    "\n",
    "- Instance method `find_by_title(substr)` returns list of matching `Book` objects\n",
    "\n",
    "- **Class method** `format_isbn(isbn)` → returns isbn normalized with dashes removed (simple string replace).\n"
   ]
  },
  {
   "cell_type": "code",
   "execution_count": 16,
   "id": "retlqVWGIpMC",
   "metadata": {
    "id": "retlqVWGIpMC"
   },
   "outputs": [],
   "source": [
    "# TODO: Start here\n",
    "# Write your solution below. You may add helper methods/classes if helpful (Week 6 scope only).\n",
    "\n",
    "class Catalog:\n",
    "    def __init__(self):\n",
    "        self.items = {}\n",
    "\n",
    "    def add_book(self, book):\n",
    "        isbn_key = Catalog.format_isbn(book.isbn)\n",
    "        self.items[isbn_key] = book\n",
    "\n",
    "    def find_by_title(self, substr: str):\n",
    "        results = []\n",
    "        for book in self.items.values():\n",
    "            if substr.lower() in book.title.lower():\n",
    "                results.append(book)\n",
    "        return results\n",
    "\n",
    "    @classmethod\n",
    "    def format_isbn(cls, isbn: str) -> str:\n",
    "        return isbn.replace(\"-\", \"\")\n"
   ]
  },
  {
   "cell_type": "markdown",
   "id": "6jgMNTG7IpMC",
   "metadata": {
    "id": "6jgMNTG7IpMC"
   },
   "source": [
    "---\n",
    "\n",
    "## 8) `Shelf` capacity check (instance method)\n",
    "\n",
    "Create a `Shelf` with attributes: `shelf_id`, `capacity`, and `slots` (a list of isbns).\n",
    "\n",
    "Add instance methods:\n",
    "\n",
    "- `has_space()` → True if `len(slots) < capacity`\n",
    "\n",
    "- `place(isbn)` → append if space, return True; otherwise return False\n",
    "\n",
    "- `remove(isbn)` → remove if present, return True; otherwise return False\n"
   ]
  },
  {
   "cell_type": "code",
   "execution_count": 18,
   "id": "SLRyFx2yIpMD",
   "metadata": {
    "id": "SLRyFx2yIpMD"
   },
   "outputs": [],
   "source": [
    "# TODO: Start here\n",
    "# Write your solution below. You may add helper methods/classes if helpful (Week 6 scope only).\n",
    "\n",
    "class Shelf:\n",
    "    def __init__(self, shelf_id: str, capacity: int):\n",
    "        self.shelf_id = shelf_id\n",
    "        self.capacity = capacity\n",
    "        self.slots = []\n",
    "\n",
    "    def has_space(self) -> bool:\n",
    "        return len(self.slots) < self.capacity\n",
    "    \n",
    "    def place(self, isbn: str) -> bool:\n",
    "        if self.has_space():\n",
    "            self.slots.append(isbn)\n",
    "            return True\n",
    "        return False\n",
    "    \n",
    "    def remove(self, isbn: str) -> bool:\n",
    "        if isbn in self.slots:\n",
    "            self.slots.remove(isbn)\n",
    "            return True\n",
    "        return False"
   ]
  },
  {
   "cell_type": "markdown",
   "id": "e2YR7eWOIpMD",
   "metadata": {
    "id": "e2YR7eWOIpMD"
   },
   "source": [
    "---\n",
    "\n",
    "## 9) `UserName` class method for suggested handles\n",
    "\n",
    "Create a `UserName` class that suggests login handles from a full name.\n",
    "\n",
    "- **Class method** `suggest(full_name)` returns a lowercase handle like `first_initial + lastname` (e.g., 'Ada Lovelace' -> 'alovelace').\n",
    "\n",
    "Optionally strip whitespace and punctuation minimally (just spaces and hyphens).\n"
   ]
  },
  {
   "cell_type": "code",
   "execution_count": null,
   "id": "OICUt97CIpMD",
   "metadata": {
    "id": "OICUt97CIpMD"
   },
   "outputs": [],
   "source": [
    "# TODO: Start here\n",
    "# Write your solution below. You may add helper methods/classes if helpful (Week 6 scope only).\n",
    "\n",
    "class UserName:\n",
    "    @classmethod\n",
    "    def suggest(cls, full_name: str) -> str:\n",
    "        parts = full_name.strip().replace(\"_\", \" \").lower().split()\n",
    "        if len(parts) < 2:\n",
    "            return full_name.lower()\n",
    "        first_initial = parts[0][0]\n",
    "        lastname = parts[-1]\n",
    "        return f\"{first_initial}{lastname}\"\n"
   ]
  },
  {
   "cell_type": "markdown",
   "id": "h6_DllSSIpME",
   "metadata": {
    "id": "h6_DllSSIpME"
   },
   "source": [
    "---\n",
    "\n",
    "## 10) `Library` coordinating simple actions\n",
    "\n",
    "Create a `Library` class with attributes: `catalog` (Catalog), `members` (dict id->Member), `loans` (list of Loan).\n",
    "\n",
    "Add instance methods:\n",
    "\n",
    "- `register_member(name, join_date)` → use `IdGenerator.next_id()` to assign a `member_id`, store `Member`, return the new member\n",
    "\n",
    "- `checkout(isbn, member_id, policy)` → create a `Loan` with `checkout_date=today` and computed `due_date`\n",
    "\n",
    "- `member_loans(member_id)` → list of that member’s loans\n"
   ]
  },
  {
   "cell_type": "code",
   "execution_count": null,
   "id": "JanEt7NUIpME",
   "metadata": {
    "id": "JanEt7NUIpME"
   },
   "outputs": [],
   "source": [
    "# TODO: Start here\n",
    "# Write your solution below. You may add helper methods/classes if helpful (Week 6 scope only).\n",
    "\n",
    "from datetime import date, timedelta\n",
    "\n",
    "class Library:\n",
    "    def __init__(self, catalog):\n",
    "        self.catalog = catalog\n",
    "        self.members = {}\n",
    "        self.loans = []\n",
    "\n",
    "    def register_member(self, name: str, join_date: str):\n",
    "        member_id = IDGenerator.next_id()\n",
    "        newmember = Member(member_id, name, join_date)\n",
    "        self.members[member_id] = newmember\n",
    "        return newmember\n",
    "    \n",
    "    def checkout(self, isbn: str, member_id: str, policy):\n",
    "        today = date.today()\n",
    "        due_date = today + timedelta(days=policy.loan_days)\n",
    "        today_str = today.strftime(\"%Y-%m-%d\")\n",
    "        due_date_str = due_date.strftime(\"%Y-%m-%d\")\n",
    "    \n",
    "    def member_loans(self, member_id: str):\n",
    "        return [loan for loan in self.loans if loan.member_id == member_id]\n"
   ]
  },
  {
   "cell_type": "markdown",
   "id": "fyHbrxXlIpME",
   "metadata": {
    "id": "fyHbrxXlIpME"
   },
   "source": [
    "---\n",
    "\n",
    "## 11) `Search` static filters over books\n",
    "\n",
    "Create a `Search` class with **static methods** operating on a list of `Book` objects:\n",
    "\n",
    "- `by_author(books, name_substr)`\n",
    "\n",
    "- `by_year_range(books, start, end)`\n",
    "\n",
    "- `by_title(books, substr)`\n",
    "\n",
    "Return filtered lists. Keep implementations simple (no regex).\n"
   ]
  },
  {
   "cell_type": "code",
   "execution_count": null,
   "id": "P1J9AclMIpMF",
   "metadata": {
    "id": "P1J9AclMIpMF"
   },
   "outputs": [],
   "source": [
    "# TODO: Start here\n",
    "# Write your solution below. You may add helper methods/classes if helpful (Week 6 scope only).\n",
    "\n",
    "class Search:\n",
    "    @staticmethod\n",
    "    def by_author(books, name_substr: str):\n",
    "        return [book for book in books if name_substr.lower() in book.author.lower()]\n",
    "    \n",
    "    @staticmethod\n",
    "    def by_year_range(books, start: int, end: int):\n",
    "        return [book for book in books if start <= book.year <= end]\n",
    "    \n",
    "    @staticmethod\n",
    "    def by_title(books, substr: str):\n",
    "        return [book for book in books if substr.lower() in book.title.lower()]"
   ]
  },
  {
   "cell_type": "markdown",
   "id": "Ej5AHc7XIpMF",
   "metadata": {
    "id": "Ej5AHc7XIpMF"
   },
   "source": [
    "---\n",
    "\n",
    "## 12) `HoldRequest` with class-wide queue count\n",
    "\n",
    "Create a `HoldRequest` class with attributes: `isbn`, `member_id`, `request_date`.\n",
    "\n",
    "Track a **class attribute** `total_requests` that increments whenever a new instance is created (in `__init__`).\n",
    "\n",
    "Add a **class method** `count()` that returns the current total.\n"
   ]
  },
  {
   "cell_type": "code",
   "execution_count": 20,
   "id": "EG20b-fxIpMF",
   "metadata": {
    "id": "EG20b-fxIpMF"
   },
   "outputs": [],
   "source": [
    "# TODO: Start here\n",
    "# Write your solution below. You may add helper methods/classes if helpful (Week 6 scope only).\n",
    "\n",
    "class HoldRequest:\n",
    "    total_requests = 0\n",
    "\n",
    "    def __init__(self, isbn: str, member_id: str, request_date: str):\n",
    "        self.isbn = isbn\n",
    "        self.member_id = member_id\n",
    "        self.request_date = request_date\n",
    "        HoldRequest.total_requests += 1\n",
    "\n",
    "    @classmethod\n",
    "    def count(cls) -> int:\n",
    "        return cls.total_requests\n"
   ]
  },
  {
   "cell_type": "markdown",
   "id": "niselJ86IpMF",
   "metadata": {
    "id": "niselJ86IpMF"
   },
   "source": [
    "---\n",
    "\n",
    "## 13) `Barcode` static validators\n",
    "\n",
    "Create a `Barcode` class with **static methods**:\n",
    "\n",
    "- `is_isbn10(s)` → very simple length check (10 characters, digits or X allowed at end)\n",
    "\n",
    "- `is_isbn13(s)` → simple length check (13 digits)\n",
    "\n",
    "Keep validation minimal; no check digits required (Week 6 scope).\n"
   ]
  },
  {
   "cell_type": "code",
   "execution_count": null,
   "id": "qy9gGDbHIpMG",
   "metadata": {
    "id": "qy9gGDbHIpMG"
   },
   "outputs": [],
   "source": [
    "# TODO: Start here\n",
    "# Write your solution below. You may add helper methods/classes if helpful (Week 6 scope only).\n",
    "\n",
    "class Barcode:\n",
    "    @staticmethod\n",
    "    def is_isbn10(s: str) -> bool:\n",
    "        return len(s) == 10 and (s[:-1].isdigit() and (s[-1].isdigit() or s[-1] == 'X'))\n",
    "    \n",
    "    @staticmethod\n",
    "    def is_isbn13(s: str) -> bool:\n",
    "        return len(s) == 13 and s.isdigit()"
   ]
  },
  {
   "cell_type": "markdown",
   "id": "9wQ7a1fHIpMG",
   "metadata": {
    "id": "9wQ7a1fHIpMG"
   },
   "source": [
    "---\n",
    "\n",
    "## 14) `Formatter` static formatters\n",
    "\n",
    "Create a `Formatter` class with **static methods**:\n",
    "\n",
    "- `title_case(s)` → title-case a string safely\n",
    "\n",
    "- `truncate(s, n)` → return at most `n` characters with '…' if truncated\n",
    "\n",
    "Use these to render a `Book` label (combine with Exercise 1 if helpful).\n"
   ]
  },
  {
   "cell_type": "code",
   "execution_count": null,
   "id": "i9pGTz8uIpMG",
   "metadata": {
    "id": "i9pGTz8uIpMG"
   },
   "outputs": [],
   "source": [
    "# TODO: Start here\n",
    "# Write your solution below. You may add helper methods/classes if helpful (Week 6 scope only).\n",
    "\n",
    "class Formatter:\n",
    "    @staticmethod\n",
    "    def title_case(s: str) -> str:\n",
    "        if not isinstance(s, str):\n",
    "            return \"\"\n",
    "        return s.title().strip()\n",
    "    \n",
    "    @staticmethod\n",
    "    def truncate(s: str, n: int) -> str:\n",
    "        if not isinstance(s, str):\n",
    "            return \"\"\n",
    "        if len(s) <= n:\n",
    "            return s\n",
    "        return s[:n-2] + \"..\""
   ]
  },
  {
   "cell_type": "markdown",
   "id": "OQmGS1NKIpMH",
   "metadata": {
    "id": "OQmGS1NKIpMH"
   },
   "source": [
    "---\n",
    "\n",
    "## 15) `CirculationStats` class methods for aggregates\n",
    "\n",
    "Create a `CirculationStats` class that **does not** store per-instance data.\n",
    "\n",
    "Provide **class methods** that accept a list of `Loan` objects and compute:\n",
    "\n",
    "- `count_overdue(today)`\n",
    "\n",
    "- `avg_loan_length()` assuming each `Loan` has `checkout_date` and `due_date` strings.\n",
    "\n",
    "Use your `DateUtils` helpers; keep calculations simple averages (float).\n"
   ]
  },
  {
   "cell_type": "code",
   "execution_count": null,
   "id": "PXKYks13IpMH",
   "metadata": {
    "id": "PXKYks13IpMH"
   },
   "outputs": [],
   "source": [
    "# TODO: Start here\n",
    "# Write your solution below. You may add helper methods/classes if helpful (Week 6 scope only).\n",
    "from datetime import date\n",
    "\n",
    "class CirculationStats:\n",
    "    @classmethod\n",
    "    def count_overdue(cls, loans, today: str) -> int:\n",
    "        y, m, d = DateUtils.parse_ymd(today)\n",
    "        today_date = date(y, m, d)\n",
    "        count = 0\n",
    "        for loan in loans:\n",
    "            y2, m2, d2 = DateUtils.parse_ymd(loan.due_date)\n",
    "            due_date = date(y2, m2, d2)\n",
    "            if due_date < today_date:\n",
    "                count += 1\n",
    "        return count\n",
    "    \n",
    "    @classmethod\n",
    "    def avg_loan_length(cls, loans) -> float:\n",
    "        if not loans:\n",
    "            return 0.0\n",
    "        total_days = 0\n",
    "        for loan in loans:\n",
    "            y1, m1, d1 = DateUtils.parse_ymd(loan.checkout_date)\n",
    "            y2, m2, d2 = DateUtils.parse_ymd(loan.due_date)\n",
    "            checkout_date = date(y1, m1, d1)\n",
    "            due_date = date(y2, m2, d2)\n",
    "            total_days += (due_date - checkout_date).days\n",
    "        return total_days / len(loans)"
   ]
  },
  {
   "cell_type": "markdown",
   "id": "v4eFTdaYIpMH",
   "metadata": {
    "id": "v4eFTdaYIpMH"
   },
   "source": [
    "---\n",
    "\n",
    "## 16) `Reminder` static message builder\n",
    "\n",
    "Make a `Reminder` class with a **static method** `build(overdue_days, title, member_name)` that returns a polite message string depending on `overdue_days`.\n",
    "\n",
    "(Keep logic simple with if/elif; do not raise exceptions.)\n"
   ]
  },
  {
   "cell_type": "code",
   "execution_count": null,
   "id": "Tb4_Z6GWIpMH",
   "metadata": {
    "id": "Tb4_Z6GWIpMH"
   },
   "outputs": [],
   "source": [
    "# TODO: Start here\n",
    "# Write your solution below. You may add helper methods/classes if helpful (Week 6 scope only).\n",
    "\n",
    "class Reminder:\n",
    "    @staticmethod\n",
    "    def build(overdue_days: int, title: str, member_name: str) -> str:\n",
    "        if overdue_days <= 0:\n",
    "            return f\"Hello {member_name}, the book {title} is due soon. Return on time.\"\n",
    "        elif overdue_days <= 4:\n",
    "            return f\"Hello {member_name}, the book {title} is overdue by {overdue_days} days. Please return it.\"\n",
    "        elif overdue_days <= 12:\n",
    "            return f\"Dear {member_name}, the book {title} is overdue by {overdue_days} days. Return it as soon as possible.\"\n",
    "        else:\n",
    "            return f\"Attention {member_name}, the book {title} is overdue by {overdue_days} days. Please contact the library.\"\n",
    "        "
   ]
  },
  {
   "cell_type": "markdown",
   "id": "BEK8O0S2IpMI",
   "metadata": {
    "id": "BEK8O0S2IpMI"
   },
   "source": [
    "---\n",
    "\n",
    "## 17) `RoomReservation` with class method factories\n",
    "\n",
    "Create a `RoomReservation` class with attributes: `room_name`, `start_time`, `end_time` (HH:MM 24-hr strings), `member_id`.\n",
    "\n",
    "Add **class methods** that create common reservations:\n",
    "\n",
    "- `one_hour(room_name, start_time, member_id)`\n",
    "\n",
    "- `two_hours(room_name, start_time, member_id)`\n",
    "\n",
    "Compute `end_time` by simple HH:MM arithmetic (assume same day).\n"
   ]
  },
  {
   "cell_type": "code",
   "execution_count": null,
   "id": "l0E90FwLIpMI",
   "metadata": {
    "id": "l0E90FwLIpMI"
   },
   "outputs": [],
   "source": [
    "# TODO: Start here\n",
    "# Write your solution below. You may add helper methods/classes if helpful (Week 6 scope only).\n",
    "from datetime import datetime, timedelta\n",
    "\n",
    "class RoomReservation:\n",
    "    def __init__(self, room_name: str, start_time: str, end_time: str, member_id: str):\n",
    "        self.room_name = room_name\n",
    "        self.start_time = start_time\n",
    "        self.end_time = end_time\n",
    "        self.member_id = member_id\n",
    "\n",
    "    @classmethod\n",
    "    def one_hour(cls, room_name: str, start_time: str, member_id: str):\n",
    "        start_date = datetime.strptime(start_time, \"%H:%M\")\n",
    "        end_date = start_date + timedelta(hours=1)\n",
    "        end_time = end_date.strftime(\"%H:%M\")\n",
    "        return cls(room_name, start_time, end_time, member_id)\n",
    "    \n",
    "    @classmethod\n",
    "    def two_hours(cls, room_name: str, start_time: str, member_id: str):\n",
    "        start_date = datetime.strptime(start_time, \"%H:%M\")\n",
    "        end_date = start_date + timedelta(hours=2)\n",
    "        end_time = end_date.strftime(\"%H:%M\")\n",
    "        return cls(room_name, start_time, end_time, member_id)"
   ]
  },
  {
   "cell_type": "markdown",
   "id": "fvb4sF1LIpMI",
   "metadata": {
    "id": "fvb4sF1LIpMI"
   },
   "source": [
    "---\n",
    "\n",
    "## 18) `Config` class with env presets (class method)\n",
    "\n",
    "Create a `Config` class with attributes: `env_name`, `db_url`, `feature_flags` (dict).\n",
    "\n",
    "Add **class methods** `dev()`, `test()`, `prod()` that return commonly seeded configs.\n",
    "\n",
    "Add an instance method `is_enabled(flag)` returning True/False from `feature_flags`.\n"
   ]
  },
  {
   "cell_type": "code",
   "execution_count": null,
   "id": "dTBNLACxIpMJ",
   "metadata": {
    "id": "dTBNLACxIpMJ"
   },
   "outputs": [],
   "source": [
    "# TODO: Start here\n",
    "# Write your solution below. You may add helper methods/classes if helpful (Week 6 scope only).\n",
    "\n",
    "class Config: \n",
    "    def __init__(self, env_name: str, db_url: str, feature_flags: dict):\n",
    "        self.env_name = env_name\n",
    "        self.db_url = db_url\n",
    "        self.feature_flags = feature_flags\n",
    "    \n",
    "    @classmethod\n",
    "    def dev(cls):\n",
    "        return cls(\n",
    "            env_name=\"development\",\n",
    "            db_url=\"localhost:5432/devdb\",\n",
    "            feature_flags={\n",
    "                \"debug\": True,\n",
    "                \"beta_mode\": True,\n",
    "                \"logging\": True\n",
    "            }\n",
    "        )\n",
    "    \n",
    "    @classmethod\n",
    "    def test(cls):\n",
    "        return cls(\n",
    "            env_name=\"testing\",\n",
    "            db_url=\"localhost:5432/testdb\",\n",
    "            feature_flags={\n",
    "                \"debug\": False,\n",
    "                \"beta_mode\": False,\n",
    "                \"logging\": True\n",
    "            }\n",
    "        )\n",
    "    \n",
    "    @classmethod\n",
    "    def prod(cls):\n",
    "        return cls(\n",
    "            env_name=\"production\",\n",
    "            db_url=\"db.prod.example.com:5432/proddb\",\n",
    "            feature_flags={\n",
    "                \"debug\": False,\n",
    "                \"beta_mode\": False,\n",
    "                \"logging\": False\n",
    "            }\n",
    "        )\n",
    "    \n",
    "    def is_enabled(self, flag: str) -> bool:\n",
    "        return self.feature_flags.get(flag, False)"
   ]
  },
  {
   "cell_type": "markdown",
   "id": "Q69ilMx5IpMQ",
   "metadata": {
    "id": "Q69ilMx5IpMQ"
   },
   "source": [
    "---\n",
    "\n",
    "## 19) `Acquisition` instance + static price helpers\n",
    "\n",
    "Create an `Acquisition` class with attributes: `isbn`, `price`, `vendor`.\n",
    "\n",
    "Add a **static method** `apply_discount(price, pct)` → discounted price.\n",
    "\n",
    "Add an instance method `price_after_discount(pct)` that uses the static method.\n",
    "\n",
    "Show a few examples (e.g., 10%, 15%).\n"
   ]
  },
  {
   "cell_type": "code",
   "execution_count": null,
   "id": "f52va_YgIpMQ",
   "metadata": {
    "id": "f52va_YgIpMQ"
   },
   "outputs": [],
   "source": [
    "# TODO: Start here\n",
    "# Write your solution below. You may add helper methods/classes if helpful (Week 6 scope only).\n",
    "\n",
    "class Acquistion:\n",
    "    def __init__(self, isbn: str, price: float, vendor: str):\n",
    "        self.isbn = isbn\n",
    "        self.price = price\n",
    "        self.vendor = vendor\n",
    "\n",
    "    @staticmethod\n",
    "    def apply_disocunt(price: float, pct: float) -> float:\n",
    "        return price * (1 - pct / 100)\n",
    "    \n",
    "    def price_after_discount(self, pct: float) -> float:\n",
    "        return Acquistion.apply_disocount(self.price, pct)"
   ]
  },
  {
   "cell_type": "markdown",
   "id": "T4d_mzNDIpMS",
   "metadata": {
    "id": "T4d_mzNDIpMS"
   },
   "source": [
    "---\n",
    "\n",
    "## 20) `CSVExporter` static serializer\n",
    "\n",
    "Create a `CSVExporter` class with a **static method** `to_csv(rows, headers)` that returns a CSV string.\n",
    "\n",
    "- `rows` is a list of tuples/lists matching `headers` order.\n",
    "\n",
    "Use only Python built-ins (no external libs).\n"
   ]
  },
  {
   "cell_type": "code",
   "execution_count": 24,
   "id": "SjXspjN9IpMS",
   "metadata": {
    "id": "SjXspjN9IpMS"
   },
   "outputs": [],
   "source": [
    "# TODO: Start here\n",
    "# Write your solution below. You may add helper methods/classes if helpful (Week 6 scope only).\n",
    "\n",
    "class CSVExporter:\n",
    "    @staticmethod\n",
    "    def to_csv(rows: list, headers: list) -> str:\n",
    "        csv_lines = [\",\".join(headers)]\n",
    "\n",
    "        for row in rows:\n",
    "            csv_lines.append(\",\".join(str(x)) for x in row)\n",
    "\n",
    "        return \"\\n\".join(csv_lines)\n"
   ]
  }
 ],
 "metadata": {
  "colab": {
   "provenance": []
  },
  "kernelspec": {
   "display_name": "Python 3",
   "language": "python",
   "name": "python3"
  },
  "language_info": {
   "codemirror_mode": {
    "name": "ipython",
    "version": 3
   },
   "file_extension": ".py",
   "mimetype": "text/x-python",
   "name": "python",
   "nbconvert_exporter": "python",
   "pygments_lexer": "ipython3",
   "version": "3.13.5"
  }
 },
 "nbformat": 4,
 "nbformat_minor": 5
}
