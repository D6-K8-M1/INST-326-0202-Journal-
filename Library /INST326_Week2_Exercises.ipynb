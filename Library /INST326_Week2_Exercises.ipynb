{
 "cells": [
  {
   "cell_type": "markdown",
   "id": "997c09e6",
   "metadata": {
    "id": "997c09e6"
   },
   "source": [
    "# INST326 — Week 2 Exercises (Library Management Project) — **With Solutions**\n",
    "\n",
    "**Scope:** conditionals, loops, basic lists. **No functions** (functions begin in Week 3). Also avoid Week 3+ topics (dictionaries, list comprehensions, files, exceptions, classes)."
   ]
  },
  {
   "cell_type": "markdown",
   "id": "139a53d8",
   "metadata": {
    "id": "139a53d8"
   },
   "source": [
    "\n",
    "### Python skills needed\n",
    "- Variables, numeric & string basics; `len()`\n",
    "- Comparisons & logical operators: `==`, `!=`, `<`, `>`, `<=`, `>=`, `and`, `or`, `not`\n",
    "- **Conditionals:** `if`, `elif`, `else`\n",
    "- **Loops:** `for`, `while`\n",
    "- **Lists:** create, index, (positive) slice, `append`, `insert`, `remove`, `pop`, `sort`, `reverse`, `len`\n",
    "- Avoid: functions, dictionaries/sets/tuples, list comprehensions, file I/O, exceptions, classes/objects, external libraries\n"
   ]
  },
  {
   "cell_type": "markdown",
   "id": "31b14345",
   "metadata": {
    "id": "31b14345"
   },
   "source": [
    "\n",
    "### Reusable starter data\n",
    "```python\n",
    "titles = [\"Python 101\", \"Data Wrangling\", \"AI Basics\", \"Networks\", \"UX Design\"]\n",
    "authors = [\"Ng\", \"Lee\", \"Patel\", \"Garcia\", \"Kim\"]\n",
    "available = [True, True, False, True, False]  # parallel to titles\n",
    "member_names = [\"Ava\", \"Ben\", \"Cam\", \"Dev\", \"Eli\"]\n",
    "loan_counts = [2, 0, 3, 1, 4]\n",
    "```\n"
   ]
  },
  {
   "cell_type": "markdown",
   "id": "dfb52010",
   "metadata": {
    "id": "dfb52010"
   },
   "source": [
    "#### 1) Check availability (if/else). Using the lists above, print `\"Available\"` if the first book is available, otherwise print `\"Checked out\"`."
   ]
  },
  {
   "cell_type": "markdown",
   "id": "daf31887",
   "metadata": {
    "id": "daf31887"
   },
   "source": [
    "**Solution:**"
   ]
  },
  {
   "cell_type": "code",
   "execution_count": 42,
   "id": "d1a14e5a",
   "metadata": {
    "id": "d1a14e5a"
   },
   "outputs": [
    {
     "name": "stdout",
     "output_type": "stream",
     "text": [
      "Available\n"
     ]
    }
   ],
   "source": [
    "\n",
    "# your code here\n",
    "available = [True, True, False, True, False]  # parallel to titles\n",
    "\n",
    "if available[0]:\n",
    "    print(\"Available\")\n",
    "else:\n",
    "    print(\"Checked out\")"
   ]
  },
  {
   "cell_type": "markdown",
   "id": "18035f75",
   "metadata": {
    "id": "18035f75"
   },
   "source": [
    "#### 2) Toggle a book's availability. Flip the availability of the third book (index 2) and print the updated `available` list."
   ]
  },
  {
   "cell_type": "markdown",
   "id": "c2b9036a",
   "metadata": {
    "id": "c2b9036a"
   },
   "source": [
    "**Solution:**"
   ]
  },
  {
   "cell_type": "code",
   "execution_count": 43,
   "id": "88c73771",
   "metadata": {
    "id": "88c73771"
   },
   "outputs": [
    {
     "name": "stdout",
     "output_type": "stream",
     "text": [
      "[True, True, True, True, False]\n"
     ]
    }
   ],
   "source": [
    "# your code here\n",
    "available = [True, True, False, True, False]  # parallel to titles\n",
    "\n",
    "available[2] = not available[2]    \n",
    "print(available)"
   ]
  },
  {
   "cell_type": "markdown",
   "id": "208b37f5",
   "metadata": {
    "id": "208b37f5"
   },
   "source": [
    "#### 3) Basic list add. Append a new title `\"Human-Centered AI\"` to `titles` and print the length of `titles`."
   ]
  },
  {
   "cell_type": "markdown",
   "id": "e98a1e1e",
   "metadata": {
    "id": "e98a1e1e"
   },
   "source": [
    "**Solution:**"
   ]
  },
  {
   "cell_type": "code",
   "execution_count": 44,
   "id": "7af1686e",
   "metadata": {
    "id": "7af1686e"
   },
   "outputs": [
    {
     "name": "stdout",
     "output_type": "stream",
     "text": [
      "6\n"
     ]
    }
   ],
   "source": [
    "# your code here\n",
    "titles = [\"Python 101\", \"Data Wrangling\", \"AI Basics\", \"Networks\", \"UX Design\"]\n",
    "\n",
    "titles.append(\"Human-Centered AI\")\n",
    "a = len(titles)\n",
    "print(a)"
   ]
  },
  {
   "cell_type": "markdown",
   "id": "9795bc54",
   "metadata": {
    "id": "9795bc54"
   },
   "source": [
    "#### 4) Parallel insert. Insert a new author `\"Russell\"` at the same position as the new title `\"Human-Centered AI\"`. Keep lists aligned."
   ]
  },
  {
   "cell_type": "markdown",
   "id": "6f6f6b7a",
   "metadata": {
    "id": "6f6f6b7a"
   },
   "source": [
    "**Solution:**"
   ]
  },
  {
   "cell_type": "code",
   "execution_count": 45,
   "id": "04c62401",
   "metadata": {
    "id": "04c62401"
   },
   "outputs": [
    {
     "name": "stdout",
     "output_type": "stream",
     "text": [
      "['Russell', 'Ng', 'Lee', 'Patel', 'Garcia', 'Kim']\n",
      "['Human-Centered AI', 'Python 101', 'Data Wrangling', 'AI Basics', 'Networks', 'UX Design']\n"
     ]
    }
   ],
   "source": [
    "# your code here\n",
    "titles = [\"Python 101\", \"Data Wrangling\", \"AI Basics\", \"Networks\", \"UX Design\"]\n",
    "authors = [\"Ng\", \"Lee\", \"Patel\", \"Garcia\", \"Kim\"]\n",
    "\n",
    "authors.insert(0, \"Russell\")\n",
    "titles.insert(0, \"Human-Centered AI\")\n",
    "print(authors)\n",
    "print(titles)\n",
    "\n"
   ]
  },
  {
   "cell_type": "markdown",
   "id": "159dc832",
   "metadata": {
    "id": "159dc832"
   },
   "source": [
    "#### 5) Simple search (if `in`). Ask: does `\"AI Basics\"` exist in `titles`? If yes, print its index; else print `-1`."
   ]
  },
  {
   "cell_type": "markdown",
   "id": "eb4bc60f",
   "metadata": {
    "id": "eb4bc60f"
   },
   "source": [
    "**Solution:**"
   ]
  },
  {
   "cell_type": "code",
   "execution_count": 32,
   "id": "5ca2409b",
   "metadata": {
    "id": "5ca2409b"
   },
   "outputs": [
    {
     "name": "stdout",
     "output_type": "stream",
     "text": [
      "2\n"
     ]
    }
   ],
   "source": [
    "# your code here\n",
    "titles = [\"Python 101\", \"Data Wrangling\", \"AI Basics\", \"Networks\", \"UX Design\"]\n",
    "\n",
    "if \"AI Basics\" in titles:\n",
    "    print(titles.index(\"AI Basics\"))\n",
    "else:\n",
    "    print(-1)"
   ]
  },
  {
   "cell_type": "markdown",
   "id": "2dbd0e4f",
   "metadata": {},
   "source": []
  },
  {
   "cell_type": "markdown",
   "id": "ce052e38",
   "metadata": {
    "id": "ce052e38"
   },
   "source": [
    "#### 6) Count checkouts via loop. Given `available`, count how many books are currently checked out (`False`)."
   ]
  },
  {
   "cell_type": "markdown",
   "id": "e63438f5",
   "metadata": {
    "id": "e63438f5"
   },
   "source": [
    "**Solution:**"
   ]
  },
  {
   "cell_type": "code",
   "execution_count": 46,
   "id": "77551e68",
   "metadata": {
    "id": "77551e68"
   },
   "outputs": [
    {
     "name": "stdout",
     "output_type": "stream",
     "text": [
      "2\n"
     ]
    }
   ],
   "source": [
    "# your code here\n",
    "available = [True, True, False, True, False]  # parallel to titles\n",
    "\n",
    "checked_out=0\n",
    "for i in available:\n",
    "    if i == False:\n",
    "        checked_out += 1\n",
    "print(checked_out)\n",
    "\n"
   ]
  },
  {
   "cell_type": "markdown",
   "id": "b51e0196",
   "metadata": {
    "id": "b51e0196"
   },
   "source": [
    "#### 7) First available book. Find and print the first title that is available using a `for` loop and `if`. If none are available, print `\"No books available\"`."
   ]
  },
  {
   "cell_type": "markdown",
   "id": "3fe6d53c",
   "metadata": {
    "id": "3fe6d53c"
   },
   "source": [
    "**Solution:**"
   ]
  },
  {
   "cell_type": "code",
   "execution_count": null,
   "id": "4d2ab519",
   "metadata": {
    "id": "4d2ab519"
   },
   "outputs": [
    {
     "name": "stdout",
     "output_type": "stream",
     "text": [
      "Python 101\n"
     ]
    }
   ],
   "source": [
    "# your code here\n",
    "available = [True, True, False, True, False]  # parallel to titles\n",
    "titles = [\"Python 101\", \"Data Wrangling\", \"AI Basics\", \"Networks\", \"UX Design\"]\n",
    "\n",
    "a = False  \n",
    "for i in range (len(available)):\n",
    "    if available[i]:\n",
    "        print(titles[i])\n",
    "        a = True\n",
    "        break\n",
    "        \n",
    "if not a:\n",
    "    print(\"No books available\")\n",
    "    "
   ]
  },
  {
   "cell_type": "markdown",
   "id": "6e0ef486",
   "metadata": {
    "id": "6e0ef486"
   },
   "source": [
    "#### 8) Basic sorting. Sort `titles` alphabetically in place. Then reverse them in place. Print after each step."
   ]
  },
  {
   "cell_type": "markdown",
   "id": "bf7bceb6",
   "metadata": {
    "id": "bf7bceb6"
   },
   "source": [
    "**Solution:**"
   ]
  },
  {
   "cell_type": "code",
   "execution_count": 35,
   "id": "78fc4886",
   "metadata": {
    "id": "78fc4886"
   },
   "outputs": [
    {
     "name": "stdout",
     "output_type": "stream",
     "text": [
      "['AI Basics', 'Data Wrangling', 'Networks', 'Python 101', 'UX Design']\n",
      "['UX Design', 'Python 101', 'Networks', 'Data Wrangling', 'AI Basics']\n"
     ]
    }
   ],
   "source": [
    "# your code here\n",
    "titles = [\"Python 101\", \"Data Wrangling\", \"AI Basics\", \"Networks\", \"UX Design\"]\n",
    "\n",
    "titles.sort()\n",
    "print(titles)\n",
    "\n",
    "titles.reverse()\n",
    "print(titles)"
   ]
  },
  {
   "cell_type": "markdown",
   "id": "0d2d85e5",
   "metadata": {
    "id": "0d2d85e5"
   },
   "source": [
    "#### 9) Remove a lost book. Remove the title `\"Networks\"` from `titles`. (Assume it exists.)"
   ]
  },
  {
   "cell_type": "markdown",
   "id": "95eeb451",
   "metadata": {
    "id": "95eeb451"
   },
   "source": [
    "**Solution:**"
   ]
  },
  {
   "cell_type": "code",
   "execution_count": 36,
   "id": "46b7211d",
   "metadata": {
    "id": "46b7211d"
   },
   "outputs": [
    {
     "name": "stdout",
     "output_type": "stream",
     "text": [
      "['Python 101', 'Data Wrangling', 'AI Basics', 'UX Design']\n"
     ]
    }
   ],
   "source": [
    "# your code here\n",
    "titles = [\"Python 101\", \"Data Wrangling\", \"AI Basics\", \"Networks\", \"UX Design\"]\n",
    "\n",
    "titles.remove(\"Networks\")\n",
    "print(titles)"
   ]
  },
  {
   "cell_type": "markdown",
   "id": "2c3f8a8c",
   "metadata": {
    "id": "2c3f8a8c"
   },
   "source": [
    "#### 10) Index-safe remove. Try to remove `\"Quantum Design\"` from `titles`. If not present, print a message (no error)."
   ]
  },
  {
   "cell_type": "markdown",
   "id": "d8df1c01",
   "metadata": {
    "id": "d8df1c01"
   },
   "source": [
    "**Solution:**"
   ]
  },
  {
   "cell_type": "code",
   "execution_count": 51,
   "id": "3faccdf1",
   "metadata": {
    "id": "3faccdf1"
   },
   "outputs": [
    {
     "name": "stdout",
     "output_type": "stream",
     "text": [
      "Quantum Design is not present\n"
     ]
    }
   ],
   "source": [
    "# your code here\n",
    "titles = [\"Python 101\", \"Data Wrangling\", \"AI Basics\", \"Networks\", \"UX Design\"]\n",
    "\n",
    "if \"Quantum Design\" in titles:\n",
    "    titles.remove(\"Quantum Design\")\n",
    "else:\n",
    "    print(\"Quantum Design is not present\")\n"
   ]
  },
  {
   "cell_type": "markdown",
   "id": "c0d737b7",
   "metadata": {
    "id": "c0d737b7"
   },
   "source": [
    "#### 11) Member eligibility. Given `loan_counts`, print `\"OK to borrow\"` if `loan_counts[1] < 3`, else `\"Limit reached\"`."
   ]
  },
  {
   "cell_type": "markdown",
   "id": "e5313104",
   "metadata": {
    "id": "e5313104"
   },
   "source": [
    "**Solution:**"
   ]
  },
  {
   "cell_type": "code",
   "execution_count": 52,
   "id": "34358792",
   "metadata": {
    "id": "34358792"
   },
   "outputs": [
    {
     "name": "stdout",
     "output_type": "stream",
     "text": [
      "OK to borrow\n"
     ]
    }
   ],
   "source": [
    "# your code here\n",
    "loan_counts = [2, 0, 3, 1, 4]\n",
    "\n",
    "if loan_counts[1] < 3:\n",
    "    print(\"OK to borrow\")\n",
    "else:\n",
    "    print(\"Limit reached\")\n",
    "    \n"
   ]
  },
  {
   "cell_type": "markdown",
   "id": "9b2dcf30",
   "metadata": {
    "id": "9b2dcf30"
   },
   "source": [
    "#### 12) Simple policy check (if/elif/else). For `days_overdue`, print: `\"No fine\"` if `<= 0`; `\"Small fine\"` if `1-5`; `\"Large fine\"` if `> 5`."
   ]
  },
  {
   "cell_type": "markdown",
   "id": "f98be289",
   "metadata": {
    "id": "f98be289"
   },
   "source": [
    "**Solution:**"
   ]
  },
  {
   "cell_type": "code",
   "execution_count": 53,
   "id": "773e4fca",
   "metadata": {
    "id": "773e4fca"
   },
   "outputs": [
    {
     "name": "stdout",
     "output_type": "stream",
     "text": [
      "Small fine\n"
     ]
    }
   ],
   "source": [
    "# your code here\n",
    "days_overdue = 5\n",
    "\n",
    "if days_overdue <= 0:\n",
    "    print(\"No fine\")\n",
    "elif days_overdue >5:\n",
    "    print(\"Large fine\")\n",
    "else:\n",
    "    print(\"Small fine\")"
   ]
  },
  {
   "cell_type": "markdown",
   "id": "e2b45428",
   "metadata": {
    "id": "e2b45428"
   },
   "source": [
    "#### 13) Build an availability report. Print lines like `\"Python 101: Available\"` or `\"AI Basics: Checked out\"` for all books."
   ]
  },
  {
   "cell_type": "markdown",
   "id": "ff9e1646",
   "metadata": {
    "id": "ff9e1646"
   },
   "source": [
    "**Solution:**"
   ]
  },
  {
   "cell_type": "code",
   "execution_count": 58,
   "id": "4050f8a0",
   "metadata": {
    "id": "4050f8a0"
   },
   "outputs": [
    {
     "name": "stdout",
     "output_type": "stream",
     "text": [
      "Python 101: Available\n",
      "Data Wrangling: Available\n",
      "AI Basics: Checked out\n",
      "Networks: Available\n",
      "UX Design: Checked out\n"
     ]
    }
   ],
   "source": [
    "# your code here\n",
    "titles = [\"Python 101\", \"Data Wrangling\", \"AI Basics\", \"Networks\", \"UX Design\"]\n",
    "available = [True, True, False, True, False]  # parallel to titles\n",
    "\n",
    "for i in range(len(titles)):\n",
    "    if available[i] == True:\n",
    "        print(f\"{titles[i]}: Available\")\n",
    "    else:\n",
    "        print(f\"{titles[i]}: Checked out\")"
   ]
  },
  {
   "cell_type": "markdown",
   "id": "018ee21b",
   "metadata": {
    "id": "018ee21b"
   },
   "source": [
    "#### 14) Find longest title (via loop; no `max` key)."
   ]
  },
  {
   "cell_type": "markdown",
   "id": "bd15164f",
   "metadata": {
    "id": "bd15164f"
   },
   "source": [
    "**Solution:**"
   ]
  },
  {
   "cell_type": "code",
   "execution_count": 63,
   "id": "c88627b5",
   "metadata": {
    "id": "c88627b5"
   },
   "outputs": [
    {
     "name": "stdout",
     "output_type": "stream",
     "text": [
      "Data Wrangling\n"
     ]
    }
   ],
   "source": [
    "# your code here\n",
    "titles = [\"Python 101\", \"Data Wrangling\", \"AI Basics\", \"Networks\", \"UX Design\"]\n",
    "\n",
    "lenght = 0\n",
    "title = \"\"\n",
    "\n",
    "for i in range(len(titles)):\n",
    "    if len(titles[i]) > lenght:\n",
    "        lenght = len(titles[i])\n",
    "        title = titles[i]\n",
    "print(title)"
   ]
  },
  {
   "cell_type": "markdown",
   "id": "fe908d84",
   "metadata": {
    "id": "fe908d84"
   },
   "source": [
    "#### 15) Basic slice (positive indices only). Print the first three titles using slicing."
   ]
  },
  {
   "cell_type": "markdown",
   "id": "926f66cb",
   "metadata": {
    "id": "926f66cb"
   },
   "source": [
    "**Solution:**"
   ]
  },
  {
   "cell_type": "code",
   "execution_count": 68,
   "id": "5fbb1f65",
   "metadata": {
    "id": "5fbb1f65"
   },
   "outputs": [
    {
     "name": "stdout",
     "output_type": "stream",
     "text": [
      "['Python 101', 'Data Wrangling', 'AI Basics']\n"
     ]
    }
   ],
   "source": [
    "# your code here\n",
    "titles = [\"Python 101\", \"Data Wrangling\", \"AI Basics\", \"Networks\", \"UX Design\"]\n",
    "\n",
    "a = titles[0:3]\n",
    "print(a)"
   ]
  },
  {
   "cell_type": "markdown",
   "id": "cb8c0648",
   "metadata": {
    "id": "cb8c0648"
   },
   "source": [
    "#### 16) Move a title to the end. Pop the title at index `1` and append it to the end."
   ]
  },
  {
   "cell_type": "markdown",
   "id": "bb98f4a7",
   "metadata": {
    "id": "bb98f4a7"
   },
   "source": [
    "**Solution:**"
   ]
  },
  {
   "cell_type": "code",
   "execution_count": 71,
   "id": "6eed930c",
   "metadata": {
    "id": "6eed930c"
   },
   "outputs": [
    {
     "name": "stdout",
     "output_type": "stream",
     "text": [
      "['Python 101', 'AI Basics', 'Networks', 'UX Design', 'Data Wrangling']\n"
     ]
    }
   ],
   "source": [
    "# your code here\n",
    "titles = [\"Python 101\", \"Data Wrangling\", \"AI Basics\", \"Networks\", \"UX Design\"]\n",
    "\n",
    "a = titles.pop(1)\n",
    "titles.append(a)\n",
    "print(titles)"
   ]
  },
  {
   "cell_type": "markdown",
   "id": "6db0c132",
   "metadata": {
    "id": "6db0c132"
   },
   "source": [
    "#### 17) Matching by position. Given `titles` and `authors` as parallel lists, print `\"<title> by <author>\"` for each index."
   ]
  },
  {
   "cell_type": "markdown",
   "id": "fd1c7cbc",
   "metadata": {
    "id": "fd1c7cbc"
   },
   "source": [
    "**Solution:**"
   ]
  },
  {
   "cell_type": "code",
   "execution_count": 72,
   "id": "4430f5ae",
   "metadata": {
    "id": "4430f5ae"
   },
   "outputs": [
    {
     "name": "stdout",
     "output_type": "stream",
     "text": [
      "Python 101 by Ng\n",
      "Data Wrangling by Lee\n",
      "AI Basics by Patel\n",
      "Networks by Garcia\n",
      "UX Design by Kim\n"
     ]
    }
   ],
   "source": [
    "# your code here\n",
    "titles = [\"Python 101\", \"Data Wrangling\", \"AI Basics\", \"Networks\", \"UX Design\"]\n",
    "authors = [\"Ng\", \"Lee\", \"Patel\", \"Garcia\", \"Kim\"]\n",
    "\n",
    "for i in range(len(titles)):\n",
    "    print(f\"{titles[i]} by {authors[i]}\")"
   ]
  },
  {
   "cell_type": "markdown",
   "id": "15d48b6e",
   "metadata": {
    "id": "15d48b6e"
   },
   "source": [
    "#### 18) Any available? Loop & conditional to set `any_available` to `True` if any book is available; else `False`. Print the result."
   ]
  },
  {
   "cell_type": "markdown",
   "id": "8201c548",
   "metadata": {
    "id": "8201c548"
   },
   "source": [
    "**Solution:**"
   ]
  },
  {
   "cell_type": "code",
   "execution_count": 76,
   "id": "1e846be6",
   "metadata": {
    "id": "1e846be6"
   },
   "outputs": [
    {
     "name": "stdout",
     "output_type": "stream",
     "text": [
      "True\n"
     ]
    }
   ],
   "source": [
    "# your code here\n",
    "titles = [\"Python 101\", \"Data Wrangling\", \"AI Basics\", \"Networks\", \"UX Design\"]\n",
    "available = [True, True, False, True, False]  # parallel to titles\n",
    "\n",
    "any_available = False\n",
    "for i in available:\n",
    "    if i:\n",
    "        any_available = True\n",
    "        break\n",
    "print(any_available)"
   ]
  },
  {
   "cell_type": "markdown",
   "id": "7311d68f",
   "metadata": {
    "id": "7311d68f"
   },
   "source": [
    "#### 19) All available? Loop & conditional to set `all_available` to `True` only if every book is available. Print the result."
   ]
  },
  {
   "cell_type": "markdown",
   "id": "78b8868f",
   "metadata": {
    "id": "78b8868f"
   },
   "source": [
    "**Solution:**"
   ]
  },
  {
   "cell_type": "code",
   "execution_count": 77,
   "id": "d7ffd560",
   "metadata": {
    "id": "d7ffd560"
   },
   "outputs": [
    {
     "name": "stdout",
     "output_type": "stream",
     "text": [
      "False\n"
     ]
    }
   ],
   "source": [
    "# your code here\n",
    "titles = [\"Python 101\", \"Data Wrangling\", \"AI Basics\", \"Networks\", \"UX Design\"]\n",
    "available = [True, True, False, True, False]  # parallel to titles\n",
    "\n",
    "all_available = True\n",
    "for i in available:\n",
    "    if not i:\n",
    "        all_available = False\n",
    "        break\n",
    "    \n",
    "print(all_available)"
   ]
  },
  {
   "cell_type": "markdown",
   "id": "3aa517cd",
   "metadata": {
    "id": "3aa517cd"
   },
   "source": [
    "#### 20) Basic filter with loop. Create `checked_out_titles` containing only titles that are checked out (`available[i] == False`)."
   ]
  },
  {
   "cell_type": "markdown",
   "id": "4ba3eb42",
   "metadata": {
    "id": "4ba3eb42"
   },
   "source": [
    "**Solution:**"
   ]
  },
  {
   "cell_type": "code",
   "execution_count": 82,
   "id": "d2d247d4",
   "metadata": {
    "id": "d2d247d4"
   },
   "outputs": [
    {
     "name": "stdout",
     "output_type": "stream",
     "text": [
      "['AI Basics', 'UX Design']\n"
     ]
    }
   ],
   "source": [
    "# your code here\n",
    "titles = [\"Python 101\", \"Data Wrangling\", \"AI Basics\", \"Networks\", \"UX Design\"]\n",
    "available = [True, True, False, True, False]  # parallel to titles\n",
    "\n",
    "checked_out_titles = []\n",
    "for i in range(len(titles)):\n",
    "    if not available[i]:\n",
    "        checked_out_titles.append(titles[i])\n",
    "    \n",
    "print(checked_out_titles)\n"
   ]
  },
  {
   "cell_type": "markdown",
   "id": "e2e37448",
   "metadata": {
    "id": "e2e37448"
   },
   "source": [
    "#### 21) Cap loans at 3. Increase `loan_counts[i]` by 1 for each member whose count is `< 3`."
   ]
  },
  {
   "cell_type": "markdown",
   "id": "302ee213",
   "metadata": {
    "id": "302ee213"
   },
   "source": [
    "**Solution:**"
   ]
  },
  {
   "cell_type": "code",
   "execution_count": 86,
   "id": "4c2a7b3b",
   "metadata": {
    "id": "4c2a7b3b"
   },
   "outputs": [
    {
     "name": "stdout",
     "output_type": "stream",
     "text": [
      "[3, 1, 3, 2, 3]\n"
     ]
    }
   ],
   "source": [
    "# your code here\n",
    "loan_counts = [2, 0, 3, 1, 4]\n",
    "for i in range(len(loan_counts)):\n",
    "    if loan_counts[i] < 3:\n",
    "        loan_counts[i] += 1\n",
    "    else:\n",
    "        loan_counts[i] = 3\n",
    "\n",
    "\n",
    "print(loan_counts)"
   ]
  },
  {
   "cell_type": "markdown",
   "id": "cb062f92",
   "metadata": {
    "id": "cb062f92"
   },
   "source": [
    "#### 22) Simple string parsing. Given `call_number = \"QA76.73.P98\"`, print just the prefix before the first digit (here: `\"QA\"`)."
   ]
  },
  {
   "cell_type": "markdown",
   "id": "75be728d",
   "metadata": {
    "id": "75be728d"
   },
   "source": [
    "**Solution:**"
   ]
  },
  {
   "cell_type": "code",
   "execution_count": 90,
   "id": "1c664316",
   "metadata": {
    "id": "1c664316"
   },
   "outputs": [
    {
     "name": "stdout",
     "output_type": "stream",
     "text": [
      "QA\n"
     ]
    }
   ],
   "source": [
    "# your code here\n",
    "call_number = \"QA76.73.P98\"\n",
    "\n",
    "prefix = \"\"\n",
    "for i in call_number:\n",
    "    if i.isdigit():\n",
    "        break\n",
    "    prefix += i\n",
    "print(prefix)"
   ]
  },
  {
   "cell_type": "markdown",
   "id": "99ddcab7",
   "metadata": {
    "id": "99ddcab7"
   },
   "source": [
    "#### 23) Enforce title casing (manual). From `raw_title = \"python for DATA\"`, construct `fixed` so the first char is uppercase and the rest lowercase."
   ]
  },
  {
   "cell_type": "markdown",
   "id": "70da54de",
   "metadata": {
    "id": "70da54de"
   },
   "source": [
    "**Solution:**"
   ]
  },
  {
   "cell_type": "code",
   "execution_count": 91,
   "id": "9238f669",
   "metadata": {
    "id": "9238f669"
   },
   "outputs": [
    {
     "name": "stdout",
     "output_type": "stream",
     "text": [
      "Python for data\n"
     ]
    }
   ],
   "source": [
    "# your code here\n",
    "raw_title = \"python for DATA\"\n",
    "fixed = raw_title[0].upper()\n",
    "fixed2 = raw_title[1:].lower()\n",
    "print(fixed + fixed2)\n"
   ]
  },
  {
   "cell_type": "markdown",
   "id": "b440d551",
   "metadata": {
    "id": "b440d551"
   },
   "source": [
    "#### 24) Eligibility mapping without functions. For each value in `loan_counts`, print `True` if it is `< 3` else `False` (use a loop)."
   ]
  },
  {
   "cell_type": "markdown",
   "id": "a635228c",
   "metadata": {
    "id": "a635228c"
   },
   "source": [
    "**Solution:**"
   ]
  },
  {
   "cell_type": "code",
   "execution_count": 92,
   "id": "77c48815",
   "metadata": {
    "id": "77c48815"
   },
   "outputs": [
    {
     "name": "stdout",
     "output_type": "stream",
     "text": [
      "True\n",
      "True\n",
      "False\n",
      "True\n",
      "False\n"
     ]
    }
   ],
   "source": [
    "# your code here\n",
    "loan_counts = [2, 0, 3, 1, 4]\n",
    "\n",
    "for i in loan_counts:\n",
    "    if i < 3:\n",
    "        print(\"True\")\n",
    "    else:\n",
    "        print(\"False\")"
   ]
  },
  {
   "cell_type": "markdown",
   "id": "c0537d3a",
   "metadata": {
    "id": "c0537d3a"
   },
   "source": [
    "#### 25) First checked-out index (no function). Given `available`, print the index of the first `False`, or `-1` if none."
   ]
  },
  {
   "cell_type": "markdown",
   "id": "f002bdee",
   "metadata": {
    "id": "f002bdee"
   },
   "source": [
    "**Solution:**"
   ]
  },
  {
   "cell_type": "code",
   "execution_count": 95,
   "id": "5f0ded08",
   "metadata": {
    "id": "5f0ded08"
   },
   "outputs": [
    {
     "name": "stdout",
     "output_type": "stream",
     "text": [
      "2\n"
     ]
    }
   ],
   "source": [
    "# your code here\n",
    "available = [True, True, False, True, False]  # parallel to titles\n",
    "\n",
    "index = -1\n",
    "for i in range(len(available)):\n",
    "    if available[i] == False:\n",
    "        index = i\n",
    "        break\n",
    "print(index)"
   ]
  },
  {
   "cell_type": "markdown",
   "id": "75d54c43",
   "metadata": {
    "id": "75d54c43"
   },
   "source": [
    "#### 26) Merge two shelves. Given `shelf_a` & `shelf_b`, create `merged` that alternates items from each until one runs out, then appends the rest."
   ]
  },
  {
   "cell_type": "markdown",
   "id": "1f70aa08",
   "metadata": {
    "id": "1f70aa08"
   },
   "source": [
    "**Solution:**"
   ]
  },
  {
   "cell_type": "code",
   "execution_count": 97,
   "id": "54044473",
   "metadata": {
    "id": "54044473"
   },
   "outputs": [
    {
     "name": "stdout",
     "output_type": "stream",
     "text": [
      "['1', '4', '2', '5', '3', '6']\n"
     ]
    }
   ],
   "source": [
    "# your code here\n",
    "shelf_a = [\"1\", \"2\", \"3\"]\n",
    "shelf_b = [\"4\", \"5\", \"6\"]\n",
    "\n",
    "merged = []\n",
    "a = min(len(shelf_a), len(shelf_b))\n",
    "\n",
    "for i in range(a):\n",
    "    merged.append(shelf_a[i])\n",
    "    merged.append(shelf_b[i])\n",
    "\n",
    "merged += shelf_a[a:]\n",
    "merged += shelf_b[a:]\n",
    "\n",
    "print(merged)"
   ]
  },
  {
   "cell_type": "markdown",
   "id": "e657b727",
   "metadata": {
    "id": "e657b727"
   },
   "source": [
    "#### 27) Sanity check parallel lists. Verify `len(titles) == len(authors) == len(available)`. If not, print a warning."
   ]
  },
  {
   "cell_type": "markdown",
   "id": "ac6c179e",
   "metadata": {
    "id": "ac6c179e"
   },
   "source": [
    "**Solution:**"
   ]
  },
  {
   "cell_type": "code",
   "execution_count": 98,
   "id": "a8268a81",
   "metadata": {
    "id": "a8268a81"
   },
   "outputs": [
    {
     "name": "stdout",
     "output_type": "stream",
     "text": [
      "Same length\n"
     ]
    }
   ],
   "source": [
    "# your code here\n",
    "titles = [\"Python 101\", \"Data Wrangling\", \"AI Basics\", \"Networks\", \"UX Design\"]\n",
    "authors = [\"Ng\", \"Lee\", \"Patel\", \"Garcia\", \"Kim\"]\n",
    "available = [True, True, False, True, False]  # parallel to titles\n",
    "\n",
    "if len(titles) == len(authors) == len(available):\n",
    "    print(\"Same length\")\n",
    "else:\n",
    "    print(\"Warning\")\n",
    "\n"
   ]
  },
  {
   "cell_type": "markdown",
   "id": "f34b1e61",
   "metadata": {
    "id": "f34b1e61"
   },
   "source": [
    "#### 28) Most active borrower. Using `loan_counts`, find the index of the largest count (via loop; no `max`), then print the corresponding name."
   ]
  },
  {
   "cell_type": "markdown",
   "id": "903d37c5",
   "metadata": {
    "id": "903d37c5"
   },
   "source": [
    "**Solution:**"
   ]
  },
  {
   "cell_type": "code",
   "execution_count": 103,
   "id": "bd48fcfe",
   "metadata": {
    "id": "bd48fcfe"
   },
   "outputs": [
    {
     "name": "stdout",
     "output_type": "stream",
     "text": [
      "Kim: 4\n"
     ]
    }
   ],
   "source": [
    "# your code here\n",
    "loan_counts = [2, 0, 3, 1, 4]\n",
    "authors = [\"Ng\", \"Lee\", \"Patel\", \"Garcia\", \"Kim\"]\n",
    "\n",
    "loan = -1\n",
    "name = -1\n",
    "for i in range(len(loan_counts)):\n",
    "    if loan_counts[i] > loan:\n",
    "        loan = loan_counts[i]\n",
    "        name = i\n",
    "        \n",
    "        \n",
    "print(f\"{authors[name]}: {loan}\")"
   ]
  },
  {
   "cell_type": "markdown",
   "id": "500b9968",
   "metadata": {
    "id": "500b9968"
   },
   "source": [
    "#### 29) Even/odd shelf labeling. For `positions = [0,1,2,3,4,5]`, print `\"Even shelf\"` for even numbers, `\"Odd shelf\"` for odd."
   ]
  },
  {
   "cell_type": "markdown",
   "id": "331074f2",
   "metadata": {
    "id": "331074f2"
   },
   "source": [
    "**Solution:**"
   ]
  },
  {
   "cell_type": "code",
   "execution_count": 106,
   "id": "c4a57dfa",
   "metadata": {
    "id": "c4a57dfa"
   },
   "outputs": [
    {
     "name": "stdout",
     "output_type": "stream",
     "text": [
      "Even shelf\n",
      "Odd shelf\n",
      "Even shelf\n",
      "Odd shelf\n",
      "Even shelf\n",
      "Odd shelf\n"
     ]
    }
   ],
   "source": [
    "# your code here\n",
    "positions = [0,1,2,3,4,5]\n",
    "for i in range(len(positions)):\n",
    "    if positions[i] % 2 == 0:\n",
    "        print(\"Even shelf\")\n",
    "    else:\n",
    "        print(\"Odd shelf\")"
   ]
  },
  {
   "cell_type": "markdown",
   "id": "4d60019e",
   "metadata": {
    "id": "4d60019e"
   },
   "source": [
    "#### 30) Basic menu loop (while + if/elif/else, no functions). Simulate choices: print titles, then available-only, then quit."
   ]
  },
  {
   "cell_type": "markdown",
   "id": "d68fab27",
   "metadata": {
    "id": "d68fab27"
   },
   "source": [
    "**Solution:**"
   ]
  },
  {
   "cell_type": "code",
   "execution_count": 127,
   "id": "809c49fe",
   "metadata": {
    "id": "809c49fe"
   },
   "outputs": [
    {
     "name": "stdout",
     "output_type": "stream",
     "text": [
      "Python 101\n",
      "Data Wrangling\n",
      "AI Basics\n",
      "Networks\n",
      "UX Design\n",
      " \n",
      "Python 101\n",
      "Data Wrangling\n",
      "Networks\n",
      " \n",
      "quit\n"
     ]
    }
   ],
   "source": [
    "# your code here\n",
    "titles = [\"Python 101\", \"Data Wrangling\", \"AI Basics\", \"Networks\", \"UX Design\"]\n",
    "available = [True, True, False, True, False]  # parallel to titles\n",
    "\n",
    "choice = 1\n",
    "while True:\n",
    "    if choice == 1:\n",
    "        for i in titles:\n",
    "            print(i)\n",
    "        print(\" \")\n",
    "    elif choice == 2:\n",
    "        for x in range(len(available)):\n",
    "            if available[x]:\n",
    "                print(titles[x])\n",
    "        print(\" \")\n",
    "    else:\n",
    "        print(\"quit\")\n",
    "        break\n",
    "    \n",
    "    choice = choice + 1\n",
    "    \n"
   ]
  }
 ],
 "metadata": {
  "colab": {
   "provenance": [
    {
     "file_id": "19btC0pkn6MrlqutFtM60AGiJXmVNiEe0",
     "timestamp": 1757902129523
    }
   ]
  },
  "kernelspec": {
   "display_name": "Python 3",
   "name": "python3"
  },
  "language_info": {
   "codemirror_mode": {
    "name": "ipython",
    "version": 3
   },
   "file_extension": ".py",
   "mimetype": "text/x-python",
   "name": "python",
   "nbconvert_exporter": "python",
   "pygments_lexer": "ipython3",
   "version": "3.13.5"
  }
 },
 "nbformat": 4,
 "nbformat_minor": 5
}
